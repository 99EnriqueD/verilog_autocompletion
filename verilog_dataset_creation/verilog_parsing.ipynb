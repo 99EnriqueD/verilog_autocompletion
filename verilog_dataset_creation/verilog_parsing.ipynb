{
 "cells": [
  {
   "cell_type": "code",
   "execution_count": 1,
   "metadata": {},
   "outputs": [],
   "source": [
    "%load_ext autoreload\n",
    "%autoreload 2\n",
    "\n",
    "import pyverilog\n",
    "from pyverilog.vparser.parser import parse\n",
    "from pyverilog.ast_code_generator.codegen import ASTCodeGenerator\n",
    "\n",
    "import pandas as pd\n",
    "import numpy as np\n",
    "import utils\n",
    "\n",
    "from tqdm import tqdm\n",
    "tqdm.pandas(desc='Applying')\n",
    "\n",
    "from pandarallel import pandarallel"
   ]
  },
  {
   "attachments": {},
   "cell_type": "markdown",
   "metadata": {},
   "source": [
    "## Pyverilog"
   ]
  },
  {
   "cell_type": "code",
   "execution_count": 2,
   "metadata": {},
   "outputs": [],
   "source": [
    "filtered_deduplicated_index_df = utils.read_csv(\"data/verilog_partitions/filtered_deduplicated_file_index.csv\")"
   ]
  },
  {
   "cell_type": "code",
   "execution_count": 3,
   "metadata": {},
   "outputs": [],
   "source": [
    "index_partitions = np.array_split(filtered_deduplicated_index_df,25)"
   ]
  },
  {
   "cell_type": "code",
   "execution_count": null,
   "metadata": {},
   "outputs": [],
   "source": [
    "pandarallel.initialize()\n",
    "for i, idf in enumerate(index_partitions):\n",
    "    if i > 18:\n",
    "        print(f\"Starting {i}\")\n",
    "        idf[['icarus_module_spans','icarus_exception']] = idf.parallel_apply(utils.pyverilog_parse_for_row, axis=1)\n",
    "        idf.to_csv(f\"data/icarus_partitions/icarus_processed_part_{i}.csv\")"
   ]
  },
  {
   "cell_type": "code",
   "execution_count": 12,
   "metadata": {},
   "outputs": [],
   "source": [
    "combined_df = utils.read_csv(\"data/icarus_partitions/icarus_processed_part_0.csv\")\n",
    "for i in range(1,25):\n",
    "    partition_df = utils.read_csv(f\"data/icarus_partitions/icarus_processed_part_{i}.csv\")\n",
    "    combined_df = pd.concat([combined_df,partition_df])\n",
    "combined_df.to_csv(f\"data/icarus_partitions/icarus_processed_full.csv\")"
   ]
  },
  {
   "cell_type": "code",
   "execution_count": 2,
   "metadata": {},
   "outputs": [],
   "source": [
    "combined_df = utils.read_csv(\"data/icarus_partitions/icarus_processed_full.csv\")"
   ]
  },
  {
   "cell_type": "code",
   "execution_count": 3,
   "metadata": {},
   "outputs": [],
   "source": [
    "pyverilog_modules_df = combined_df[combined_df.apply(lambda row: utils.list_is_not_empty(row,'icarus_module_spans'),axis=1)]\n",
    "near_dedup_index_df = utils.read_csv(\"data/search_repo_indices/filtered_near_deduplicated_file_index.csv\")\n",
    "code_df = utils.read_csv(\"data/verilog_partitions/filtered_near_deduplicated_files_code.csv\")"
   ]
  },
  {
   "cell_type": "code",
   "execution_count": 4,
   "metadata": {},
   "outputs": [
    {
     "data": {
      "text/plain": [
       "Index(['8821', '310968', '234546', '88012', '114982', '190517', '194992',\n",
       "       '54010', '274545', '307903',\n",
       "       ...\n",
       "       '314842', '314843', '314844', '314845', '314846', '314847', '314861',\n",
       "       '314871', '314873', '314875'],\n",
       "      dtype='object', length=54709)"
      ]
     },
     "execution_count": 4,
     "metadata": {},
     "output_type": "execute_result"
    }
   ],
   "source": [
    "near_dedup_pyverilog_modules = pyverilog_modules_df[pyverilog_modules_df.index.isin(near_dedup_index_df.index)]\n",
    "near_dedup_pyverilog_modules.index"
   ]
  },
  {
   "cell_type": "code",
   "execution_count": null,
   "metadata": {},
   "outputs": [],
   "source": [
    "near_dedup_pyverilog_modules['code'] = code_df.loc[near_dedup_pyverilog_modules.index]['code']"
   ]
  },
  {
   "cell_type": "code",
   "execution_count": null,
   "metadata": {},
   "outputs": [],
   "source": [
    "columns_to_keep = [c for c in near_dedup_pyverilog_modules.columns if not c in ['icarus_module_spans','icarus_exception','code','old_module_spans']]\n",
    "only_modules_df = pd.DataFrame(columns=columns_to_keep + ['file_index','module_def','module_body'])\n",
    "only_modules_df"
   ]
  },
  {
   "cell_type": "code",
   "execution_count": 7,
   "metadata": {},
   "outputs": [
    {
     "name": "stderr",
     "output_type": "stream",
     "text": [
      "/tmp/ipykernel_22918/1164582715.py:1: SettingWithCopyWarning: \n",
      "A value is trying to be set on a copy of a slice from a DataFrame.\n",
      "Try using .loc[row_indexer,col_indexer] = value instead\n",
      "\n",
      "See the caveats in the documentation: https://pandas.pydata.org/pandas-docs/stable/user_guide/indexing.html#returning-a-view-versus-a-copy\n",
      "  near_dedup_pyverilog_modules['old_module_spans'] = near_dedup_pyverilog_modules['icarus_module_spans']\n"
     ]
    }
   ],
   "source": [
    "near_dedup_pyverilog_modules['old_module_spans'] = near_dedup_pyverilog_modules['icarus_module_spans']"
   ]
  },
  {
   "cell_type": "code",
   "execution_count": null,
   "metadata": {},
   "outputs": [],
   "source": [
    "from pyverilog.vparser.parser import parse\n",
    "row_directory = 'data/full_repos/permissive/166008742/src/led_driver_shift_reg.v'\n",
    "# row_directory = \"test4.v\"\n",
    "file_path = row_directory.rsplit(\"/\",1)[0]\n",
    "repo_path = \"/\".join(row_directory.split(\"/\",4)[:4])\n",
    "# ast, d = parse([row_directory], preprocess_include=[file_path, repo_path], preprocess_define=[])\n",
    "# ast, d = parse([row_directory], preprocess_include=[], preprocess_define=[])"
   ]
  },
  {
   "cell_type": "code",
   "execution_count": null,
   "metadata": {},
   "outputs": [],
   "source": [
    "from pyverilog.ast_code_generator.codegen import ASTCodeGenerator\n",
    "codegen = ASTCodeGenerator()\n",
    "rslt = codegen.visit(ast.description.children()[0])\n",
    "print(rslt)"
   ]
  },
  {
   "cell_type": "code",
   "execution_count": 73,
   "metadata": {},
   "outputs": [],
   "source": [
    "subset_df = near_dedup_pyverilog_modules.head(1000)"
   ]
  },
  {
   "cell_type": "code",
   "execution_count": null,
   "metadata": {},
   "outputs": [],
   "source": [
    "pandarallel.initialize()\n",
    "subset[['icarus_snippets','icarus_linenos','icarus_exception']] = subset_df.parallel_apply(utils.pyverilog_parse_for_row,axis=1)"
   ]
  },
  {
   "cell_type": "code",
   "execution_count": null,
   "metadata": {},
   "outputs": [],
   "source": [
    "for file_index,row in tqdm(near_dedup_pyverilog_modules.iterrows()):\n",
    "    modules = utils.get_pverilog_modules(row)\n",
    "    code = row['code']\n",
    "    module_span = row['icarus_module_spans']\n",
    "    directory = row['directory']\n",
    "    for module in modules:\n",
    "        module_def, module_body = utils.split_pyverilog_module_def_and_body(module)\n",
    "        only_modules_df.loc[len(only_modules_df)] = [row[ctk] for ctk in columns_to_keep] + [file_index,module_def,module_body]"
   ]
  },
  {
   "attachments": {},
   "cell_type": "markdown",
   "metadata": {},
   "source": [
    "## Verilator"
   ]
  },
  {
   "cell_type": "code",
   "execution_count": 2,
   "metadata": {},
   "outputs": [],
   "source": [
    "index_df = utils.read_csv(\"data/search_repo_indices/filtered_near_deduplicated_file_index.csv\")"
   ]
  },
  {
   "cell_type": "code",
   "execution_count": 3,
   "metadata": {},
   "outputs": [],
   "source": [
    "index_partitions = np.array_split(index_df,25)"
   ]
  },
  {
   "cell_type": "code",
   "execution_count": null,
   "metadata": {},
   "outputs": [],
   "source": [
    "pandarallel.initialize()\n",
    "index_partitions[0][['verilator_xml_output_path','verilator_exception']] = index_partitions[0].parallel_apply(utils.verilator_parse_for_row,axis=1)\n",
    "index_partitions[0].to_csv(f\"data/verilator_partitions/icarus_processed_part_{0}.csv\")"
   ]
  },
  {
   "cell_type": "code",
   "execution_count": null,
   "metadata": {},
   "outputs": [],
   "source": [
    "# pandarallel.initialize()\n",
    "for i, idf in enumerate(index_partitions):\n",
    "    print(f\"Starting {i}\")\n",
    "    # idf[['verilator_xml_output_path','verilator_exception']] = idf.parallel_apply(utils.verilator_parse_for_row,axis=1)\n",
    "    idf[['verilator_xml_output_path','verilator_exception']] = idf.apply(utils.verilator_parse_for_row,axis=1)\n",
    "    idf.to_csv(f\"data/verilator_partitions/verilator_processed_part_{i}.csv\")"
   ]
  },
  {
   "cell_type": "code",
   "execution_count": 7,
   "metadata": {},
   "outputs": [],
   "source": [
    "combined_df = utils.read_csv(\"data/verilator_partitions/icarus_processed_part_0.csv\")\n",
    "combined_df.to_csv(\"data/verilator_partitions/verilator_processed_part_0.csv\")\n",
    "for i in range(1,25):\n",
    "    partition_df = utils.read_csv(f\"data/verilator_partitions/icarus_processed_part_{i}.csv\")\n",
    "    partition_df.to_csv(f\"data/verilator_partitions/verilator_processed_part_{i}.csv\")\n",
    "    combined_df = pd.concat([combined_df,partition_df])\n",
    "combined_df.to_csv(f\"data/verilator_partitions/verilator_processed_full.csv\")"
   ]
  },
  {
   "attachments": {},
   "cell_type": "markdown",
   "metadata": {},
   "source": [
    "## Combine code and index files together"
   ]
  },
  {
   "cell_type": "code",
   "execution_count": 4,
   "metadata": {},
   "outputs": [],
   "source": [
    "verilator_df = utils.read_csv(\"data/verilator_partitions/verilator_processed_full.csv\")\n",
    "icarus_df = utils.read_csv(\"data/icarus_partitions/icarus_processed_full.csv\")\n",
    "nd_code_df = utils.read_csv(\"data/verilog_partitions/filtered_near_deduplicated_files_code.csv\")"
   ]
  },
  {
   "cell_type": "code",
   "execution_count": 5,
   "metadata": {},
   "outputs": [],
   "source": [
    "nd_verilator_df = verilator_df[verilator_df.index.isin(nd_code_df.index)]\n",
    "nd_icarus_df = icarus_df[icarus_df.index.isin(nd_code_df.index)]"
   ]
  },
  {
   "cell_type": "code",
   "execution_count": 6,
   "metadata": {},
   "outputs": [
    {
     "data": {
      "text/plain": [
       "Index(['directory', 'repo_id', 'file_name', 'extension', 'no_lines',\n",
       "       'max_line_len', 'generation_keywords', 'license_whitelist_keywords',\n",
       "       'license_blacklist_keywords', 'icarus_module_spans', 'icarus_exception',\n",
       "       'verilator_xml_output_path', 'verilator_exception'],\n",
       "      dtype='object')"
      ]
     },
     "execution_count": 6,
     "metadata": {},
     "output_type": "execute_result"
    }
   ],
   "source": [
    "nd_verilator_df.columns"
   ]
  },
  {
   "cell_type": "code",
   "execution_count": 7,
   "metadata": {},
   "outputs": [
    {
     "data": {
      "text/plain": [
       "Index(['directory', 'repo_id', 'file_name', 'extension', 'no_lines',\n",
       "       'max_line_len', 'generation_keywords', 'license_whitelist_keywords',\n",
       "       'license_blacklist_keywords', 'icarus_module_spans',\n",
       "       'icarus_exception'],\n",
       "      dtype='object')"
      ]
     },
     "execution_count": 7,
     "metadata": {},
     "output_type": "execute_result"
    }
   ],
   "source": [
    "nd_icarus_df.columns"
   ]
  },
  {
   "cell_type": "code",
   "execution_count": 8,
   "metadata": {},
   "outputs": [
    {
     "data": {
      "text/plain": [
       "Index(['directory', 'repo_id', 'file_name', 'extension', 'code'], dtype='object')"
      ]
     },
     "execution_count": 8,
     "metadata": {},
     "output_type": "execute_result"
    }
   ],
   "source": [
    "nd_code_df.columns"
   ]
  },
  {
   "cell_type": "code",
   "execution_count": null,
   "metadata": {},
   "outputs": [],
   "source": [
    "all_df = nd_icarus_df\n",
    "all_df[['verilator_xml_output_path', 'verilator_exception']] = nd_verilator_df[['verilator_xml_output_path', 'verilator_exception']]\n",
    "all_df['code'] = nd_code_df['code']"
   ]
  },
  {
   "cell_type": "code",
   "execution_count": 11,
   "metadata": {},
   "outputs": [],
   "source": [
    "all_df.to_csv(\"data/full_unlabeled.csv\")"
   ]
  },
  {
   "attachments": {},
   "cell_type": "markdown",
   "metadata": {},
   "source": [
    "Remove files with no code"
   ]
  },
  {
   "cell_type": "code",
   "execution_count": 2,
   "metadata": {},
   "outputs": [
    {
     "name": "stdout",
     "output_type": "stream",
     "text": [
      "100606\n"
     ]
    }
   ],
   "source": [
    "all_df = utils.read_csv(\"data/full_unlabeled.csv\")\n",
    "print(len(all_df))"
   ]
  },
  {
   "cell_type": "code",
   "execution_count": 3,
   "metadata": {},
   "outputs": [],
   "source": [
    "def remove_all_comments(row):\n",
    "    abstract_code, replaced = utils.abstract_strings(row['code'])\n",
    "    no_comments_abstract_code = utils.remove_all_comments(abstract_code)\n",
    "    return utils.recreate_string(no_comments_abstract_code,replaced)"
   ]
  },
  {
   "cell_type": "code",
   "execution_count": 4,
   "metadata": {},
   "outputs": [],
   "source": [
    "all_df['code_no_comments'] = all_df.apply(remove_all_comments,axis=1)"
   ]
  },
  {
   "cell_type": "code",
   "execution_count": 5,
   "metadata": {},
   "outputs": [
    {
     "name": "stdout",
     "output_type": "stream",
     "text": [
      "100524\n"
     ]
    }
   ],
   "source": [
    "all_with_code_df = all_df[all_df['code_no_comments'].str.len() > 0]\n",
    "print(len(all_with_code_df)) "
   ]
  },
  {
   "cell_type": "code",
   "execution_count": 10,
   "metadata": {},
   "outputs": [],
   "source": [
    "all_with_code_df.drop('code_no_comments',axis=1).to_csv(\"data/full_unlabeled.csv\")"
   ]
  }
 ],
 "metadata": {
  "kernelspec": {
   "display_name": "Python 3.10.6 ('hdl_dataset_creation')",
   "language": "python",
   "name": "python3"
  },
  "language_info": {
   "codemirror_mode": {
    "name": "ipython",
    "version": 3
   },
   "file_extension": ".py",
   "mimetype": "text/x-python",
   "name": "python",
   "nbconvert_exporter": "python",
   "pygments_lexer": "ipython3",
   "version": "3.10.6"
  },
  "orig_nbformat": 4,
  "vscode": {
   "interpreter": {
    "hash": "d483179aadbe36b266083fb168142eacd02134ef8f8b2756794bec1efb632f92"
   }
  }
 },
 "nbformat": 4,
 "nbformat_minor": 2
}
