{
 "cells": [
  {
   "cell_type": "code",
   "execution_count": 1,
   "metadata": {},
   "outputs": [],
   "source": [
    "%load_ext autoreload\n",
    "%autoreload 2\n",
    "\n",
    "\n",
    "import utils\n",
    "\n",
    "import pandas as pd\n",
    "import numpy as np\n",
    "from tqdm import tqdm\n",
    "import codecs"
   ]
  },
  {
   "attachments": {},
   "cell_type": "markdown",
   "metadata": {},
   "source": [
    "## Look at some files"
   ]
  },
  {
   "cell_type": "code",
   "execution_count": 2,
   "metadata": {},
   "outputs": [],
   "source": [
    "def get_random_row(df):\n",
    "    return df.iloc[[np.random.choice(len(df))]]\n",
    "\n",
    "def print_random_code(df):\n",
    "    random_row = get_random_row(df)\n",
    "    random_file_path = list(random_row['directory'])[0].replace(\"\\\\\",\"/\")\n",
    "    with codecs.open(random_file_path,encoding='utf-8', errors='replace', mode = 'r') as f:\n",
    "        data = f.read()\n",
    "    print(random_file_path)\n",
    "print(data)"
   ]
  },
  {
   "cell_type": "code",
   "execution_count": 50,
   "metadata": {},
   "outputs": [],
   "source": [
    "files_index = pd.read_csv(\"data/search_repo_indices/files_index.csv\",index_col=0)"
   ]
  },
  {
   "cell_type": "code",
   "execution_count": null,
   "metadata": {},
   "outputs": [],
   "source": [
    "print_random_code(files_index)"
   ]
  },
  {
   "cell_type": "code",
   "execution_count": 26,
   "metadata": {},
   "outputs": [
    {
     "data": {
      "text/plain": [
       "''"
      ]
     },
     "execution_count": 26,
     "metadata": {},
     "output_type": "execute_result"
    }
   ],
   "source": [
    "matches = utils.get_multi_line_comments(data)\n",
    "utils.process_found_comments(matches)"
   ]
  },
  {
   "cell_type": "code",
   "execution_count": 28,
   "metadata": {},
   "outputs": [
    {
     "data": {
      "text/plain": [
       "'SPDX-FileCopyrightText: 2020 Efabless Corporation Licensed under the Apache License, Version 2.0 (the \"License\"); you may not use this file except in compliance with the License. You may obtain a copy of the License at http:www.apache.orglicensesLICENSE-2.0 Unless required by applicable law or agreed to in writing, software distributed under the License is distributed on an \"AS IS\" BASIS, WITHOUT WARRANTIES OR CONDITIONS OF ANY KIND, either express or implied. See the License for the specific language governing permissions and limitations under the License. SPDX-License-Identifier: Apache-2.0 Tunable ring oscillator---synthesizable (physical) version. NOTE: This netlist cannot be simulated correctly due to lack of accurate timing in the digital cell verilog models. Ring oscillator with 13 stages, each with two trim bits delay (see above). Trim is not binary: For trim[1:0], lower bit trim[0] is primary trim and must be applied first; upper bit trim[1] is secondary trim and should only be applied after the primary trim is applied, or it has no effect. Total effective number of inverter stages in this oscillator ranges from 13 at trim 0 to 65 at trim 24. The intention is to cover a range greater than 2x so that the midrange can be reached over all PVT conditions. Frequency of this ring oscillator under SPICE simulations at nominal PVT is maximum 214 MHz (trim 0), minimum 90 MHz (trim 24). i.e., behavioral model below Fastest operation is 214 MHz = 4.67ns Delay per trim is 0.02385 Run \"hiclock\" at 2x this rate, then use positive and negative edges to derive the 0 and 90 degree phase clocks. Implement trim as a variable delay, one delay per trim bit !FUNCTIONAL; i.e., gate level netlist below Main oscillator loop stages Resetstartup stage Buffered outputs a 0 and 90 degrees phase (approximately) !FUNCTIONAL'"
      ]
     },
     "execution_count": 28,
     "metadata": {},
     "output_type": "execute_result"
    }
   ],
   "source": [
    "matches = utils.get_single_line_comments(data)\n",
    "utils.process_found_comments(matches)"
   ]
  },
  {
   "attachments": {},
   "cell_type": "markdown",
   "metadata": {},
   "source": [
    "## Analyse reading errors\n",
    "NaN values in 'code' column means that the file was empty (empty string in csv is read in as nan). Replace them with empty string after reading from csv!"
   ]
  },
  {
   "cell_type": "code",
   "execution_count": 82,
   "metadata": {},
   "outputs": [],
   "source": [
    "partition_index = 5\n",
    "df = pd.read_csv(f\"data/verilog_partitions/files_index_part_{partition_index}.csv\",index_col=0)"
   ]
  },
  {
   "cell_type": "code",
   "execution_count": 83,
   "metadata": {},
   "outputs": [
    {
     "name": "stdout",
     "output_type": "stream",
     "text": [
      "31468\n",
      "31428\n",
      "31468\n"
     ]
    }
   ],
   "source": [
    "print(len(df))\n",
    "print(len(df.dropna()))\n",
    "new_df = df.fillna(\"\")\n",
    "print(len(new_df.dropna()))"
   ]
  },
  {
   "cell_type": "code",
   "execution_count": 84,
   "metadata": {},
   "outputs": [
    {
     "data": {
      "text/html": [
       "<div>\n",
       "<style scoped>\n",
       "    .dataframe tbody tr th:only-of-type {\n",
       "        vertical-align: middle;\n",
       "    }\n",
       "\n",
       "    .dataframe tbody tr th {\n",
       "        vertical-align: top;\n",
       "    }\n",
       "\n",
       "    .dataframe thead th {\n",
       "        text-align: right;\n",
       "    }\n",
       "</style>\n",
       "<table border=\"1\" class=\"dataframe\">\n",
       "  <thead>\n",
       "    <tr style=\"text-align: right;\">\n",
       "      <th></th>\n",
       "      <th>directory</th>\n",
       "      <th>repo_id</th>\n",
       "      <th>file_name</th>\n",
       "      <th>extension</th>\n",
       "      <th>code</th>\n",
       "    </tr>\n",
       "  </thead>\n",
       "  <tbody>\n",
       "  </tbody>\n",
       "</table>\n",
       "</div>"
      ],
      "text/plain": [
       "Empty DataFrame\n",
       "Columns: [directory, repo_id, file_name, extension, code]\n",
       "Index: []"
      ]
     },
     "execution_count": 84,
     "metadata": {},
     "output_type": "execute_result"
    }
   ],
   "source": [
    "new_df[new_df['code'].str.startswith(\"0:FOUND ERROR\")]"
   ]
  },
  {
   "attachments": {},
   "cell_type": "markdown",
   "metadata": {},
   "source": [
    "## Analyse source code lengths "
   ]
  },
  {
   "cell_type": "code",
   "execution_count": 3,
   "metadata": {},
   "outputs": [],
   "source": [
    "def get_code_lines(df):\n",
    "    # https://stackoverflow.com/questions/16236684/apply-pandas-function-to-column-to-create-multiple-new-columns/47097625#47097625\n",
    "    no_lines, max_line_length = [], []\n",
    "    for c in tqdm(df['code']):\n",
    "        c = str(c)\n",
    "        lines = c.split(\"\\n\")\n",
    "        no_lines.append(len(lines))\n",
    "        max_line_length.append(max(map(len,lines)))\n",
    "    df['no_lines'] = no_lines\n",
    "    df['max_line_len'] = max_line_length\n",
    "    return df"
   ]
  },
  {
   "cell_type": "code",
   "execution_count": 93,
   "metadata": {},
   "outputs": [
    {
     "name": "stdout",
     "output_type": "stream",
     "text": [
      "Starting 0\n"
     ]
    },
    {
     "name": "stderr",
     "output_type": "stream",
     "text": [
      "100%|██████████| 31468/31468 [00:04<00:00, 7123.76it/s] \n"
     ]
    },
    {
     "name": "stdout",
     "output_type": "stream",
     "text": [
      "Starting 1\n"
     ]
    },
    {
     "name": "stderr",
     "output_type": "stream",
     "text": [
      "100%|██████████| 31468/31468 [00:03<00:00, 9304.52it/s] \n"
     ]
    },
    {
     "name": "stdout",
     "output_type": "stream",
     "text": [
      "Starting 2\n"
     ]
    },
    {
     "name": "stderr",
     "output_type": "stream",
     "text": [
      "100%|██████████| 31468/31468 [00:03<00:00, 9449.21it/s] \n"
     ]
    },
    {
     "name": "stdout",
     "output_type": "stream",
     "text": [
      "Starting 3\n"
     ]
    },
    {
     "name": "stderr",
     "output_type": "stream",
     "text": [
      "100%|██████████| 31467/31467 [00:08<00:00, 3755.47it/s]\n"
     ]
    },
    {
     "name": "stdout",
     "output_type": "stream",
     "text": [
      "Starting 4\n"
     ]
    },
    {
     "name": "stderr",
     "output_type": "stream",
     "text": [
      "100%|██████████| 31468/31468 [00:17<00:00, 1775.64it/s]\n"
     ]
    },
    {
     "name": "stdout",
     "output_type": "stream",
     "text": [
      "Starting 5\n"
     ]
    },
    {
     "name": "stderr",
     "output_type": "stream",
     "text": [
      "100%|██████████| 31468/31468 [00:08<00:00, 3864.55it/s] \n"
     ]
    },
    {
     "name": "stdout",
     "output_type": "stream",
     "text": [
      "Starting 6\n"
     ]
    },
    {
     "name": "stderr",
     "output_type": "stream",
     "text": [
      "100%|██████████| 31467/31467 [00:09<00:00, 3232.69it/s]\n"
     ]
    },
    {
     "name": "stdout",
     "output_type": "stream",
     "text": [
      "Starting 7\n"
     ]
    },
    {
     "name": "stderr",
     "output_type": "stream",
     "text": [
      "100%|██████████| 31468/31468 [00:19<00:00, 1639.79it/s]\n"
     ]
    },
    {
     "name": "stdout",
     "output_type": "stream",
     "text": [
      "Starting 8\n"
     ]
    },
    {
     "name": "stderr",
     "output_type": "stream",
     "text": [
      "100%|██████████| 31468/31468 [00:19<00:00, 1626.78it/s]\n"
     ]
    },
    {
     "name": "stdout",
     "output_type": "stream",
     "text": [
      "Starting 9\n"
     ]
    },
    {
     "name": "stderr",
     "output_type": "stream",
     "text": [
      "100%|██████████| 31468/31468 [00:03<00:00, 9167.98it/s] \n"
     ]
    },
    {
     "name": "stdout",
     "output_type": "stream",
     "text": [
      "All done!\n"
     ]
    }
   ],
   "source": [
    "number_of_partitions = 10\n",
    "for i in range(number_of_partitions):\n",
    "    df_dir = f\"data/verilog_partitions/files_index_part_{i}.csv\"\n",
    "    print(f\"Starting {i}\")\n",
    "    partition_df = utils.read_csv(df_dir)\n",
    "    new_partition_df = get_code_lines(partition_df)\n",
    "    new_partition_df.to_csv(df_dir)\n",
    "    del partition_df, new_partition_df\n",
    "print(\"All done!\")\n",
    "\n",
    "# TIME BOTTLENECK HERE IS READING/WRITING CSV!"
   ]
  },
  {
   "cell_type": "code",
   "execution_count": 95,
   "metadata": {},
   "outputs": [
    {
     "name": "stdout",
     "output_type": "stream",
     "text": [
      "Reading 0\n",
      "Reading 1\n",
      "Reading 2\n",
      "Reading 3\n",
      "Reading 4\n",
      "Reading 5\n",
      "Reading 6\n",
      "Reading 7\n",
      "Reading 8\n",
      "Reading 9\n",
      "All done!\n"
     ]
    }
   ],
   "source": [
    "number_of_partitions = 10\n",
    "for i in range(number_of_partitions):\n",
    "    df_dir = f\"data/verilog_partitions/files_index_part_{i}.csv\"\n",
    "    print(f\"Reading {i}\")\n",
    "    partition_df = utils.read_csv(df_dir)\n",
    "    combined_df = pd.concat([combined_df, partition_df.drop(['code'],axis=1)])\n",
    "    del partition_df\n",
    "print(\"All done!\")"
   ]
  },
  {
   "cell_type": "code",
   "execution_count": 96,
   "metadata": {},
   "outputs": [],
   "source": [
    "combined_df.to_csv(\"data/verilog_partitions/file_index_with_code_lengths.csv\")"
   ]
  },
  {
   "cell_type": "code",
   "execution_count": 97,
   "metadata": {},
   "outputs": [
    {
     "name": "stderr",
     "output_type": "stream",
     "text": [
      "/mnt/c/Users/dehaer34/Documents/GitHub/hdl_dataset_creation/utils.py:7: DtypeWarning: Columns (0) have mixed types. Specify dtype option on import or set low_memory=False.\n",
      "  return pd.read_csv(path,index_col=0).fillna(\"\")\n"
     ]
    }
   ],
   "source": [
    "combined_df = utils.read_csv(\"data/verilog_partitions/file_index_with_code_lengths.csv\")"
   ]
  },
  {
   "cell_type": "code",
   "execution_count": 98,
   "metadata": {},
   "outputs": [
    {
     "name": "stdout",
     "output_type": "stream",
     "text": [
      "112.0\n",
      "2484.6125229453946\n",
      "1\n",
      "4643536\n"
     ]
    }
   ],
   "source": [
    "print(combined_df['no_lines'].median())\n",
    "print(combined_df['no_lines'].mean())\n",
    "print(combined_df['no_lines'].min())\n",
    "print(combined_df['no_lines'].max())"
   ]
  },
  {
   "cell_type": "code",
   "execution_count": 104,
   "metadata": {},
   "outputs": [
    {
     "data": {
      "image/png": "[encoded data removed]",
      "text/plain": [
       "<Figure size 640x480 with 1 Axes>"
      ]
     },
     "metadata": {},
     "output_type": "display_data"
    }
   ],
   "source": [
    "import matplotlib.pyplot as plt\n",
    "\n",
    "fig,ax = plt.subplots()\n",
    "bins=list(range(0,2472,10))\n",
    "ax.hist(combined_df['no_lines'],bins=bins,density=False, histtype='bar',label='histogram bins')\n",
    "ax.axvline(x=combined_df['no_lines'].mean(),ymin=0,ymax=0.2,color='red',linewidth=3.0,label='mean')\n",
    "ax.axvline(x=combined_df['no_lines'].median(),ymin=0,ymax=0.2,color='orange',linewidth=3.0,label='median')\n",
    "ax.set_xticks(list(range(0,2501,500)))\n",
    "ax.set_xlabel('lines')\n",
    "ax.set_ylabel('files')\n",
    "ax.text(combined_df['no_lines'].median(),4500,str(int(combined_df['no_lines'].median())),color='orange',ha='center',weight='heavy')\n",
    "ax.text(combined_df['no_lines'].mean(),4500,str(int(combined_df['no_lines'].mean())),color='red',ha='center',weight='heavy')\n",
    "ax.legend()\n",
    "fig.savefig(\"number_of_lines.png\",dpi=1200)"
   ]
  },
  {
   "cell_type": "code",
   "execution_count": 100,
   "metadata": {},
   "outputs": [
    {
     "data": {
      "text/plain": [
       "(array([   0.,  873.,  452.,  324.,  377.,  364.,  756.,  629.,  850.,\n",
       "         824.,  972., 1360., 1576., 1332., 1150., 1420., 1221., 1359.,\n",
       "        1478., 1727., 1523., 1860., 2019., 1765., 1498., 1605., 1696.,\n",
       "        1516., 2086., 1689., 1797., 1637., 1695., 1603., 2740., 1779.,\n",
       "        2563., 1553., 2962., 1751., 2279., 1544., 1781., 2078., 2515.,\n",
       "        1680., 1478., 1599., 3351.]),\n",
       " array([ 0.,  1.,  2.,  3.,  4.,  5.,  6.,  7.,  8.,  9., 10., 11., 12.,\n",
       "        13., 14., 15., 16., 17., 18., 19., 20., 21., 22., 23., 24., 25.,\n",
       "        26., 27., 28., 29., 30., 31., 32., 33., 34., 35., 36., 37., 38.,\n",
       "        39., 40., 41., 42., 43., 44., 45., 46., 47., 48., 49.]),\n",
       " <BarContainer object of 49 artists>)"
      ]
     },
     "execution_count": 100,
     "metadata": {},
     "output_type": "execute_result"
    },
    {
     "data": {
      "image/png": "[encoded data removed]",
      "text/plain": [
       "<Figure size 640x480 with 1 Axes>"
      ]
     },
     "metadata": {},
     "output_type": "display_data"
    }
   ],
   "source": [
    "import matplotlib.pyplot as plt\n",
    "fig,ax = plt.subplots()\n",
    "bins=list(range(0,50,1))\n",
    "ax.hist(combined_df['no_lines'],bins=bins,density=False, histtype='bar',label='histogram bins')"
   ]
  },
  {
   "cell_type": "code",
   "execution_count": 101,
   "metadata": {},
   "outputs": [
    {
     "name": "stdout",
     "output_type": "stream",
     "text": [
      "87.0\n",
      "531.1254041247721\n",
      "0\n",
      "2003588\n"
     ]
    }
   ],
   "source": [
    "print(combined_df['max_line_len'].median())\n",
    "print(combined_df['max_line_len'].mean())\n",
    "print(combined_df['max_line_len'].min())\n",
    "print(combined_df['max_line_len'].max())"
   ]
  },
  {
   "cell_type": "code",
   "execution_count": 105,
   "metadata": {},
   "outputs": [
    {
     "data": {
      "image/png": "[encoded data removed]",
      "text/plain": [
       "<Figure size 640x480 with 1 Axes>"
      ]
     },
     "metadata": {},
     "output_type": "display_data"
    }
   ],
   "source": [
    "import matplotlib.pyplot as plt\n",
    "\n",
    "fig,ax = plt.subplots()\n",
    "bins=list(range(0,522,10))\n",
    "ax.hist(combined_df['max_line_len'],bins=bins,density=False, histtype='bar',label='histogram bins')\n",
    "ax.axvline(x=combined_df['max_line_len'].mean(),ymin=0,ymax=0.2,color='red',linewidth=3.0,label='mean')\n",
    "ax.axvline(x=combined_df['max_line_len'].median(),ymin=0,ymax=0.2,color='orange',linewidth=3.0,label='median')\n",
    "ax.set_xticks([0,100,200,300,400,500])\n",
    "# ax.set_xticklabels(['0','\\n86','100','200','300','400','500','\\n522'])\n",
    "ax.set_xlabel('max line length')\n",
    "ax.set_ylabel('files')\n",
    "ax.text(combined_df['max_line_len'].median(),14000,str(int(combined_df['max_line_len'].median())),color='orange',ha='center',weight='heavy')\n",
    "ax.text(combined_df['max_line_len'].mean(),14000,str(int(combined_df['max_line_len'].mean())),color='red',ha='center',weight='heavy')\n",
    "ax.legend()\n",
    "fig.savefig(\"max_line_length.png\",dpi=1200)"
   ]
  },
  {
   "cell_type": "code",
   "execution_count": 106,
   "metadata": {},
   "outputs": [
    {
     "data": {
      "text/plain": [
       "(array([3.630e+02, 8.100e+01, 8.000e+00, 0.000e+00, 0.000e+00, 2.000e+00,\n",
       "        1.100e+01, 4.000e+00, 1.000e+00, 5.000e+00, 8.000e+00, 1.100e+01,\n",
       "        1.800e+01, 2.200e+01, 2.600e+01, 2.400e+01, 3.200e+01, 4.700e+01,\n",
       "        9.500e+01, 1.250e+02, 1.600e+02, 2.620e+02, 3.760e+02, 3.280e+02,\n",
       "        2.880e+02, 4.120e+02, 3.750e+02, 5.110e+02, 5.690e+02, 5.800e+02,\n",
       "        5.600e+02, 7.200e+02, 7.470e+02, 7.570e+02, 7.840e+02, 7.120e+02,\n",
       "        7.960e+02, 8.460e+02, 1.768e+03]),\n",
       " array([ 0.,  1.,  2.,  3.,  4.,  5.,  6.,  7.,  8.,  9., 10., 11., 12.,\n",
       "        13., 14., 15., 16., 17., 18., 19., 20., 21., 22., 23., 24., 25.,\n",
       "        26., 27., 28., 29., 30., 31., 32., 33., 34., 35., 36., 37., 38.,\n",
       "        39.]),\n",
       " <BarContainer object of 39 artists>)"
      ]
     },
     "execution_count": 106,
     "metadata": {},
     "output_type": "execute_result"
    },
    {
     "data": {
      "image/png": "[encoded data removed]",
      "text/plain": [
       "<Figure size 640x480 with 1 Axes>"
      ]
     },
     "metadata": {},
     "output_type": "display_data"
    }
   ],
   "source": [
    "fig,ax = plt.subplots()\n",
    "bins=list(range(0,40,1))\n",
    "ax.hist(combined_df['max_line_len'],bins=bins,density=False, histtype='bar',label='histogram bins')"
   ]
  },
  {
   "attachments": {},
   "cell_type": "markdown",
   "metadata": {},
   "source": [
    "## Analyse comments"
   ]
  },
  {
   "cell_type": "code",
   "execution_count": 4,
   "metadata": {},
   "outputs": [],
   "source": [
    "from tqdm import tqdm \n",
    "import pandas as pd\n",
    "tqdm.pandas(desc='Applying')"
   ]
  },
  {
   "cell_type": "code",
   "execution_count": 5,
   "metadata": {},
   "outputs": [],
   "source": [
    "def get_all_comments_from_code(source_code):\n",
    "    multi_line_matches = utils.get_multi_line_comments(source_code)\n",
    "    multi_line_comments = utils.process_found_comments(multi_line_matches)\n",
    "    single_line_matches = utils.get_single_line_comments(source_code)\n",
    "    single_line_comments = utils.process_found_comments(single_line_matches)\n",
    "    return multi_line_comments.lower(), single_line_comments.lower()\n",
    "\n",
    "def search_keywords_in_comments(comments, keywords):\n",
    "    keywords_found = []\n",
    "    for kw in keywords:\n",
    "        if kw in comments:\n",
    "            keywords_found.append(kw)\n",
    "    return keywords_found\n",
    "\n",
    "def search_keywords_in_row(row, keywords):\n",
    "    mlc,slc = get_all_comments_from_code(row['code'])\n",
    "    keywords_found_slc = search_keywords_in_comments(slc,keywords)\n",
    "    keywords_found_mlc = search_keywords_in_comments(mlc,list(set(keywords_found_slc) - set(keywords)))\n",
    "    return list(set(keywords_found_slc + keywords_found_mlc))"
   ]
  },
  {
   "cell_type": "code",
   "execution_count": 7,
   "metadata": {},
   "outputs": [],
   "source": [
    "generation_keywords = list(map(lambda x: x.lower(), [\"generated using\", \"auto-generated\", \"autogenerated\", \"generated by\", \"Cadence Genus\", \"WIZARD-GENERATED\", \"Yosys\", \"Vivado(TM) HLS - High-Level Synthesis\",\"generated_end (DO NOT EDIT ABOVE)\", \"generated_beg (DO NOT EDIT BELOW)\",\"AUTOMATICALLY GENERATED\", \"CORE_GENERATION_INFO\"]))\n",
    "license_whitelist_keywords = list(map(lambda x: x.lower(), [\"Apache License\", \"General Public License\", \"GPL license\", \"MIT License\", \"freely distributable\", \"Open Source Project\", \"Open Hardware License\", \"Solderpad Hardware License\", \"netfpga\", \"Free Software Foundation\", \"Redistribution and use in source and binary forms, with or without modification, are permitted\"]))\n",
    "license_blacklist_keywords = list(map(lambda x: x.lower(), [\"confidential\", \"proprietary\", \"all right reserved\", \"all rights reserved\", \"Non-Disclosure Agreement (NDA)\"]))"
   ]
  },
  {
   "cell_type": "code",
   "execution_count": 13,
   "metadata": {},
   "outputs": [
    {
     "name": "stdout",
     "output_type": "stream",
     "text": [
      "Starting 0\n"
     ]
    },
    {
     "name": "stderr",
     "output_type": "stream",
     "text": [
      "Applying: 100%|██████████| 31468/31468 [02:20<00:00, 223.21it/s] \n",
      "Applying: 100%|██████████| 31468/31468 [01:52<00:00, 278.54it/s] \n",
      "Applying: 100%|██████████| 31468/31468 [01:54<00:00, 275.39it/s] \n"
     ]
    },
    {
     "name": "stdout",
     "output_type": "stream",
     "text": [
      "Starting 1\n"
     ]
    },
    {
     "name": "stderr",
     "output_type": "stream",
     "text": [
      "Applying: 100%|██████████| 31468/31468 [01:40<00:00, 314.54it/s] \n",
      "Applying: 100%|██████████| 31468/31468 [01:39<00:00, 316.01it/s] \n",
      "Applying: 100%|██████████| 31468/31468 [01:36<00:00, 324.52it/s] \n"
     ]
    },
    {
     "name": "stdout",
     "output_type": "stream",
     "text": [
      "Starting 2\n"
     ]
    },
    {
     "name": "stderr",
     "output_type": "stream",
     "text": [
      "Applying: 100%|██████████| 31468/31468 [36:25<00:00, 14.40it/s]   \n",
      "Applying: 100%|██████████| 31468/31468 [36:00<00:00, 14.56it/s]   \n",
      "Applying: 100%|██████████| 31468/31468 [36:17<00:00, 14.45it/s]   \n"
     ]
    },
    {
     "name": "stdout",
     "output_type": "stream",
     "text": [
      "Starting 3\n"
     ]
    },
    {
     "name": "stderr",
     "output_type": "stream",
     "text": [
      "Applying: 100%|██████████| 31467/31467 [03:19<00:00, 157.63it/s] \n",
      "Applying: 100%|██████████| 31467/31467 [03:25<00:00, 153.08it/s] \n",
      "Applying: 100%|██████████| 31467/31467 [03:23<00:00, 154.99it/s] \n"
     ]
    },
    {
     "name": "stdout",
     "output_type": "stream",
     "text": [
      "Starting 4\n"
     ]
    },
    {
     "name": "stderr",
     "output_type": "stream",
     "text": [
      "Applying: 100%|██████████| 31468/31468 [05:21<00:00, 97.81it/s]  \n",
      "Applying: 100%|██████████| 31468/31468 [05:19<00:00, 98.50it/s]  \n",
      "Applying: 100%|██████████| 31468/31468 [05:20<00:00, 98.21it/s]  \n"
     ]
    },
    {
     "name": "stdout",
     "output_type": "stream",
     "text": [
      "Starting 5\n"
     ]
    },
    {
     "name": "stderr",
     "output_type": "stream",
     "text": [
      "Applying: 100%|██████████| 31468/31468 [03:39<00:00, 143.13it/s] \n",
      "Applying: 100%|██████████| 31468/31468 [03:37<00:00, 144.59it/s] \n",
      "Applying: 100%|██████████| 31468/31468 [03:36<00:00, 145.23it/s] \n"
     ]
    },
    {
     "name": "stdout",
     "output_type": "stream",
     "text": [
      "Starting 6\n"
     ]
    },
    {
     "name": "stderr",
     "output_type": "stream",
     "text": [
      "Applying: 100%|██████████| 31467/31467 [06:50<00:00, 76.60it/s]  \n",
      "Applying: 100%|██████████| 31467/31467 [07:08<00:00, 73.45it/s]  \n",
      "Applying: 100%|██████████| 31467/31467 [06:35<00:00, 79.59it/s]  \n"
     ]
    },
    {
     "name": "stdout",
     "output_type": "stream",
     "text": [
      "Starting 7\n"
     ]
    },
    {
     "name": "stderr",
     "output_type": "stream",
     "text": [
      "Applying: 100%|██████████| 31468/31468 [08:36<00:00, 60.93it/s]  \n",
      "Applying: 100%|██████████| 31468/31468 [08:31<00:00, 61.53it/s]  \n",
      "Applying: 100%|██████████| 31468/31468 [08:35<00:00, 61.00it/s]  \n"
     ]
    },
    {
     "name": "stdout",
     "output_type": "stream",
     "text": [
      "Starting 8\n"
     ]
    },
    {
     "name": "stderr",
     "output_type": "stream",
     "text": [
      "Applying: 100%|██████████| 31468/31468 [08:36<00:00, 60.98it/s]  \n",
      "Applying: 100%|██████████| 31468/31468 [08:31<00:00, 61.56it/s]  \n",
      "Applying: 100%|██████████| 31468/31468 [08:39<00:00, 60.54it/s]  \n"
     ]
    },
    {
     "name": "stdout",
     "output_type": "stream",
     "text": [
      "Starting 9\n"
     ]
    },
    {
     "name": "stderr",
     "output_type": "stream",
     "text": [
      "Applying: 100%|██████████| 31468/31468 [02:42<00:00, 193.74it/s] \n",
      "Applying: 100%|██████████| 31468/31468 [02:32<00:00, 206.58it/s] \n",
      "Applying: 100%|██████████| 31468/31468 [02:36<00:00, 200.92it/s] \n"
     ]
    },
    {
     "name": "stdout",
     "output_type": "stream",
     "text": [
      "All done!\n"
     ]
    }
   ],
   "source": [
    "number_of_partitions = 10\n",
    "for i in range(number_of_partitions):\n",
    "    df_dir = f\"data/verilog_partitions/files_index_part_{i}.csv\"\n",
    "    print(f\"Starting {i}\")\n",
    "    partition_df = utils.read_csv(df_dir)\n",
    "    partition_df['generation_keywords'] = partition_df.progress_apply(lambda row: search_keywords_in_row(row,generation_keywords),axis=1)\n",
    "    partition_df['license_whitelist_keywords'] = partition_df.progress_apply(lambda row: search_keywords_in_row(row,license_whitelist_keywords),axis=1)\n",
    "    partition_df['license_blacklist_keywords'] = partition_df.progress_apply(lambda row: search_keywords_in_row(row,license_blacklist_keywords),axis=1)\n",
    "    partition_df.to_csv(df_dir)\n",
    "    del partition_df\n",
    "print(\"All done!\")"
   ]
  },
  {
   "cell_type": "code",
   "execution_count": 15,
   "metadata": {},
   "outputs": [
    {
     "name": "stdout",
     "output_type": "stream",
     "text": [
      "Reading 0\n",
      "Reading 1\n",
      "Reading 2\n",
      "Reading 3\n",
      "Reading 4\n",
      "Reading 5\n",
      "Reading 6\n",
      "Reading 7\n",
      "Reading 8\n",
      "Reading 9\n",
      "All done!\n"
     ]
    }
   ],
   "source": [
    "number_of_partitions = 10\n",
    "for i in range(number_of_partitions):\n",
    "    df_dir = f\"data/verilog_partitions/files_index_part_{i}.csv\"\n",
    "    print(f\"Reading {i}\")\n",
    "    partition_df = utils.read_csv(df_dir)\n",
    "    combined_df = pd.concat([combined_df, partition_df.drop(['code'],axis=1)])\n",
    "    del partition_df\n",
    "print(\"All done!\")"
   ]
  },
  {
   "cell_type": "code",
   "execution_count": 16,
   "metadata": {},
   "outputs": [],
   "source": [
    "combined_df.to_csv(\"data/verilog_partitions/file_index_with_code_lengths_and_keywords.csv\")"
   ]
  },
  {
   "attachments": {},
   "cell_type": "markdown",
   "metadata": {},
   "source": [
    "## Filtering"
   ]
  },
  {
   "cell_type": "code",
   "execution_count": 24,
   "metadata": {},
   "outputs": [],
   "source": [
    "import matplotlib.pyplot as plt"
   ]
  },
  {
   "cell_type": "code",
   "execution_count": 2,
   "metadata": {},
   "outputs": [
    {
     "name": "stderr",
     "output_type": "stream",
     "text": [
      "/mnt/c/Users/dehaer34/Documents/GitHub/hdl_dataset_creation/utils.py:21: DtypeWarning: Columns (0) have mixed types. Specify dtype option on import or set low_memory=False.\n",
      "  df = pd.read_csv(path,index_col=0)\n"
     ]
    }
   ],
   "source": [
    "combined_df = utils.read_csv(\"data/verilog_partitions/file_index_with_code_lengths_and_keywords.csv\")"
   ]
  },
  {
   "cell_type": "code",
   "execution_count": 4,
   "metadata": {},
   "outputs": [
    {
     "name": "stdout",
     "output_type": "stream",
     "text": [
      "19584\n"
     ]
    }
   ],
   "source": [
    "has_autogen_kw = combined_df[combined_df.apply(lambda row: utils.list_is_not_empty(row, 'generation_keywords'), axis=1)]\n",
    "print(len(has_autogen_kw))"
   ]
  },
  {
   "cell_type": "code",
   "execution_count": 31,
   "metadata": {},
   "outputs": [
    {
     "name": "stdout",
     "output_type": "stream",
     "text": [
      "255.0\n",
      "3251.063214869281\n",
      "6\n",
      "1518493\n",
      "28736.95132576627\n"
     ]
    }
   ],
   "source": [
    "print(has_autogen_kw['no_lines'].median())\n",
    "print(has_autogen_kw['no_lines'].mean())\n",
    "print(has_autogen_kw['no_lines'].min())\n",
    "print(has_autogen_kw['no_lines'].max())\n",
    "print(has_autogen_kw['no_lines'].std())"
   ]
  },
  {
   "cell_type": "code",
   "execution_count": 29,
   "metadata": {},
   "outputs": [
    {
     "name": "stdout",
     "output_type": "stream",
     "text": [
      "99.0\n",
      "1237.992902369281\n",
      "37\n",
      "1989025\n"
     ]
    }
   ],
   "source": [
    "print(has_autogen_kw['max_line_len'].median())\n",
    "print(has_autogen_kw['max_line_len'].mean())\n",
    "print(has_autogen_kw['max_line_len'].min())\n",
    "print(has_autogen_kw['max_line_len'].max())"
   ]
  },
  {
   "cell_type": "code",
   "execution_count": 30,
   "metadata": {},
   "outputs": [
    {
     "data": {
      "image/png": "[encoded data removed]",
      "text/plain": [
       "<Figure size 640x480 with 1 Axes>"
      ]
     },
     "metadata": {},
     "output_type": "display_data"
    }
   ],
   "source": [
    "fig,ax = plt.subplots()\n",
    "bins=list(range(0,3000,50))\n",
    "ax.hist(has_autogen_kw['max_line_len'],bins=bins, density=False, histtype='bar',label='histogram bins')\n",
    "fig.show()"
   ]
  },
  {
   "cell_type": "code",
   "execution_count": 160,
   "metadata": {},
   "outputs": [
    {
     "name": "stdout",
     "output_type": "stream",
     "text": [
      "112.0\n",
      "2484.6125229453946\n",
      "1\n",
      "4643536\n",
      "44073.648290924255\n"
     ]
    }
   ],
   "source": [
    "print(combined_df['no_lines'].median())\n",
    "print(combined_df['no_lines'].mean())\n",
    "print(combined_df['no_lines'].min())\n",
    "print(combined_df['no_lines'].max())\n",
    "print(combined_df['no_lines'].std())"
   ]
  },
  {
   "cell_type": "code",
   "execution_count": 33,
   "metadata": {},
   "outputs": [
    {
     "name": "stdout",
     "output_type": "stream",
     "text": [
      "314878\n",
      "300893\n"
     ]
    }
   ],
   "source": [
    "cutoff_no_lines = combined_df[combined_df['no_lines'] < 2484]\n",
    "print(len(combined_df))\n",
    "print(len(cutoff_no_lines))"
   ]
  },
  {
   "cell_type": "code",
   "execution_count": 41,
   "metadata": {},
   "outputs": [
    {
     "data": {
      "text/plain": [
       "52757"
      ]
     },
     "execution_count": 41,
     "metadata": {},
     "output_type": "execute_result"
    }
   ],
   "source": [
    "len(combined_df[combined_df.apply(lambda x: utils.list_is_not_empty(x, 'license_blacklist_keywords'), axis=1)])"
   ]
  },
  {
   "cell_type": "code",
   "execution_count": 42,
   "metadata": {},
   "outputs": [
    {
     "name": "stdout",
     "output_type": "stream",
     "text": [
      "267446\n"
     ]
    }
   ],
   "source": [
    "license_filtered_df = utils.filter_df_by_license_keywords(combined_df)\n",
    "print(len(license_filtered_df))"
   ]
  },
  {
   "cell_type": "code",
   "execution_count": 45,
   "metadata": {},
   "outputs": [
    {
     "name": "stdout",
     "output_type": "stream",
     "text": [
      "254155\n"
     ]
    }
   ],
   "source": [
    "license_autogen_filtered_df = license_filtered_df[np.logical_not(license_filtered_df.apply(lambda row: utils.list_is_not_empty(row,'generation_keywords'), axis=1))]\n",
    "print(len(license_autogen_filtered_df))"
   ]
  },
  {
   "cell_type": "code",
   "execution_count": null,
   "metadata": {},
   "outputs": [],
   "source": [
    "license_autogen_filtered_df"
   ]
  },
  {
   "cell_type": "code",
   "execution_count": 46,
   "metadata": {},
   "outputs": [
    {
     "name": "stdout",
     "output_type": "stream",
     "text": [
      "95.0\n",
      "2657.0283999921307\n",
      "1\n",
      "4643536\n",
      "48136.45629681829\n"
     ]
    }
   ],
   "source": [
    "print(license_autogen_filtered_df['no_lines'].median())\n",
    "print(license_autogen_filtered_df['no_lines'].mean())\n",
    "print(license_autogen_filtered_df['no_lines'].min())\n",
    "print(license_autogen_filtered_df['no_lines'].max())\n",
    "print(license_autogen_filtered_df['no_lines'].std())"
   ]
  },
  {
   "cell_type": "code",
   "execution_count": 165,
   "metadata": {},
   "outputs": [
    {
     "name": "stdout",
     "output_type": "stream",
     "text": [
      "252129\n"
     ]
    }
   ],
   "source": [
    "lic_ag_minnol_filtered_df = license_autogen_filtered_df[license_autogen_filtered_df['no_lines'] >= 5]\n",
    "print(len(lic_ag_minnol_filtered_df))"
   ]
  },
  {
   "cell_type": "code",
   "execution_count": 219,
   "metadata": {},
   "outputs": [
    {
     "name": "stdout",
     "output_type": "stream",
     "text": [
      "252100\n"
     ]
    }
   ],
   "source": [
    "lic_ag_minnol_minml_filtered_df = lic_ag_minnol_filtered_df[lic_ag_minnol_filtered_df['max_line_len'] >= 15]\n",
    "print(len(lic_ag_minnol_minml_filtered_df))"
   ]
  },
  {
   "cell_type": "code",
   "execution_count": 221,
   "metadata": {},
   "outputs": [
    {
     "name": "stdout",
     "output_type": "stream",
     "text": [
      "96.0\n",
      "2678.590928203094\n",
      "5\n",
      "4643536\n",
      "48331.645325632555\n"
     ]
    }
   ],
   "source": [
    "print(lic_ag_minnol_minml_filtered_df['no_lines'].median())\n",
    "print(lic_ag_minnol_minml_filtered_df['no_lines'].mean())\n",
    "print(lic_ag_minnol_minml_filtered_df['no_lines'].min())\n",
    "print(lic_ag_minnol_minml_filtered_df['no_lines'].max())\n",
    "print(lic_ag_minnol_minml_filtered_df['no_lines'].std())"
   ]
  },
  {
   "cell_type": "code",
   "execution_count": 234,
   "metadata": {},
   "outputs": [
    {
     "name": "stdout",
     "output_type": "stream",
     "text": [
      "237415\n"
     ]
    }
   ],
   "source": [
    "lic_ag_minnol_minml_maxnol_filtered_df = lic_ag_minnol_minml_filtered_df[lic_ag_minnol_minml_filtered_df['no_lines'] <= 1500]\n",
    "print(len(lic_ag_minnol_minml_maxnol_filtered_df))"
   ]
  },
  {
   "cell_type": "code",
   "execution_count": 241,
   "metadata": {},
   "outputs": [
    {
     "name": "stdout",
     "output_type": "stream",
     "text": [
      "234624\n"
     ]
    }
   ],
   "source": [
    "# Same max line length limit as codex paper!\n",
    "lic_ag_minnol_minml_maxnol_maxml_filtered_df = lic_ag_minnol_minml_maxnol_filtered_df[lic_ag_minnol_minml_maxnol_filtered_df['max_line_len'] <= 1000]\n",
    "print(len(lic_ag_minnol_minml_maxnol_maxml_filtered_df))"
   ]
  },
  {
   "cell_type": "code",
   "execution_count": 244,
   "metadata": {},
   "outputs": [],
   "source": [
    "lic_ag_minnol_minml_maxnol_maxml_filtered_df.to_csv(\"data/search_repo_indices/first_filter_index.csv\")"
   ]
  },
  {
   "cell_type": "code",
   "execution_count": 266,
   "metadata": {},
   "outputs": [],
   "source": [
    "combined_df.index = combined_df.index.astype(str)"
   ]
  },
  {
   "cell_type": "code",
   "execution_count": 274,
   "metadata": {},
   "outputs": [
    {
     "name": "stdout",
     "output_type": "stream",
     "text": [
      "314878\n",
      "234624\n",
      "80254\n"
     ]
    }
   ],
   "source": [
    "print(len(combined_df))\n",
    "# indices_to_drop=combined_df.drop([14295,71423,133481,206779,24111],axis=0)\n",
    "indices_to_drop_df = combined_df.drop(list(lic_ag_minnol_minml_maxnol_maxml_filtered_df.index.astype(str)))\n",
    "print(len(lic_ag_minnol_minml_maxnol_maxml_filtered_df))\n",
    "print(len(indices_to_drop_df))"
   ]
  },
  {
   "cell_type": "code",
   "execution_count": 277,
   "metadata": {},
   "outputs": [],
   "source": [
    "indices_to_keep = set(list(lic_ag_minnol_minml_maxnol_maxml_filtered_df.index.astype(str)))"
   ]
  },
  {
   "cell_type": "code",
   "execution_count": 291,
   "metadata": {},
   "outputs": [
    {
     "name": "stdout",
     "output_type": "stream",
     "text": [
      "Starting 0\n",
      "Length after filtering: 21276\n",
      "Starting 1\n",
      "Length after filtering: 21891\n",
      "Starting 2\n",
      "Length after filtering: 23935\n",
      "Starting 3\n",
      "Length after filtering: 23049\n",
      "Starting 4\n",
      "Length after filtering: 28330\n",
      "Starting 5\n",
      "Length after filtering: 24888\n",
      "Starting 6\n",
      "Length after filtering: 22118\n",
      "Starting 7\n",
      "Length after filtering: 23986\n",
      "Starting 8\n",
      "Length after filtering: 26359\n",
      "Starting 9\n",
      "Length after filtering: 18638\n",
      "All done!\n"
     ]
    }
   ],
   "source": [
    "number_of_partitions = 10\n",
    "for i in range(number_of_partitions):\n",
    "    df_dir = f\"data/verilog_partitions/files_index_part_{i}.csv\"\n",
    "    out_dir = f\"data/verilog_partitions/filtered_files_index_part_{i}.csv\"\n",
    "    print(f\"Starting {i}\")\n",
    "    partition_df = utils.read_csv(df_dir)\n",
    "    new_partition_df = partition_df[partition_df.index.astype(str).isin(indices_to_keep)]\n",
    "    new_partition_df_only_code = new_partition_df.drop(columns=['no_lines','max_line_len','generation_keywords','license_whitelist_keywords','license_blacklist_keywords'])\n",
    "    new_partition_df_only_code.to_csv(out_dir)\n",
    "    print(f\"Length after filtering: {len(new_partition_df)}\")\n",
    "    del partition_df, new_partition_df\n",
    "print(\"All done!\")"
   ]
  },
  {
   "cell_type": "code",
   "execution_count": 298,
   "metadata": {},
   "outputs": [
    {
     "name": "stdout",
     "output_type": "stream",
     "text": [
      "Starting 0\n",
      "Starting 1\n",
      "Starting 2\n",
      "Starting 3\n",
      "Starting 4\n",
      "Starting 5\n",
      "Starting 6\n",
      "Starting 7\n",
      "Starting 8\n",
      "Starting 9\n",
      "All done!\n"
     ]
    }
   ],
   "source": [
    "number_of_partitions = 10\n",
    "for i in range(number_of_partitions):\n",
    "    df_dir = f\"data/verilog_partitions/filtered_files_index_part_{i}.csv\"\n",
    "    print(f\"Starting {i}\")\n",
    "    partition_df = utils.read_csv(df_dir)\n",
    "    combined_filtered_df = pd.concat([combined_filtered_df, partition_df])\n",
    "    del partition_df\n",
    "print(\"All done!\")"
   ]
  },
  {
   "cell_type": "code",
   "execution_count": null,
   "metadata": {},
   "outputs": [],
   "source": [
    "combined_filtered_df.to_csv(f\"data/verilog_partitions/filtered_files_code.csv\")"
   ]
  },
  {
   "cell_type": "code",
   "execution_count": 300,
   "metadata": {},
   "outputs": [
    {
     "name": "stdout",
     "output_type": "stream",
     "text": [
      "234624\n"
     ]
    }
   ],
   "source": [
    "print(len(combined_filtered_df))"
   ]
  },
  {
   "cell_type": "code",
   "execution_count": 302,
   "metadata": {},
   "outputs": [],
   "source": [
    "combined_filtered_deduplicated_df = combined_filtered_df.drop_duplicates(subset=['code'])"
   ]
  },
  {
   "cell_type": "code",
   "execution_count": 303,
   "metadata": {},
   "outputs": [],
   "source": [
    "combined_filtered_deduplicated_df.to_csv(f\"data/verilog_partitions/filtered_exact_deduplicated_files_code.csv\")"
   ]
  },
  {
   "cell_type": "code",
   "execution_count": 304,
   "metadata": {},
   "outputs": [
    {
     "name": "stdout",
     "output_type": "stream",
     "text": [
      "151204\n"
     ]
    }
   ],
   "source": [
    "print(len(combined_filtered_deduplicated_df))"
   ]
  },
  {
   "cell_type": "code",
   "execution_count": 3,
   "metadata": {},
   "outputs": [
    {
     "name": "stderr",
     "output_type": "stream",
     "text": [
      "/mnt/c/Users/dehaer34/Documents/GitHub/hdl_dataset_creation/utils.py:9: DtypeWarning: Columns (0) have mixed types. Specify dtype option on import or set low_memory=False.\n",
      "  return pd.read_csv(path,index_col=0).fillna(\"\")\n"
     ]
    }
   ],
   "source": [
    "combined_df = utils.read_csv(\"data/verilog_partitions/file_index_with_code_lengths_and_keywords.csv\")\n",
    "combined_filtered_deduplicated_df = utils.read_csv(f\"data/verilog_partitions/filtered_exact_deduplicated_files_code.csv\")"
   ]
  },
  {
   "cell_type": "code",
   "execution_count": 10,
   "metadata": {},
   "outputs": [],
   "source": [
    "filtered_deduplicated_indices = set(list(combined_filtered_deduplicated_df.index.astype(str)))\n",
    "filtered_deduplicated_index_df = combined_df[combined_df.index.astype(str).isin(filtered_deduplicated_indices)]"
   ]
  },
  {
   "cell_type": "code",
   "execution_count": 12,
   "metadata": {},
   "outputs": [],
   "source": [
    "filtered_deduplicated_index_df.to_csv(\"data/verilog_partitions/filtered_deduplicated_file_index.csv\")"
   ]
  },
  {
   "attachments": {},
   "cell_type": "markdown",
   "metadata": {},
   "source": [
    "## Near-deduplication filtering"
   ]
  },
  {
   "cell_type": "code",
   "execution_count": 1,
   "metadata": {},
   "outputs": [],
   "source": [
    "import json"
   ]
  },
  {
   "cell_type": "code",
   "execution_count": 2,
   "metadata": {},
   "outputs": [
    {
     "data": {
      "text/plain": [
       "17741"
      ]
     },
     "execution_count": 2,
     "metadata": {},
     "output_type": "execute_result"
    }
   ],
   "source": [
    "clones = json.load(open(\"logs/not_subtokens.json\",'r'))\n",
    "len(clones)"
   ]
  },
  {
   "cell_type": "code",
   "execution_count": 3,
   "metadata": {},
   "outputs": [
    {
     "data": {
      "text/plain": [
       "68339"
      ]
     },
     "execution_count": 3,
     "metadata": {},
     "output_type": "execute_result"
    }
   ],
   "source": [
    "total_no_files = 0\n",
    "for l in clones:\n",
    "    total_no_files += len(l)\n",
    "total_no_files"
   ]
  },
  {
   "cell_type": "code",
   "execution_count": 11,
   "metadata": {},
   "outputs": [],
   "source": [
    "keep_lookup_table = utils.create_near_clone_filter_lookup_table(clones)"
   ]
  },
  {
   "cell_type": "code",
   "execution_count": null,
   "metadata": {},
   "outputs": [],
   "source": [
    "index_df = utils.read_csv(\"data/icarus_partitions/icarus_processed_full.csv\")"
   ]
  },
  {
   "cell_type": "code",
   "execution_count": 17,
   "metadata": {},
   "outputs": [],
   "source": [
    "near_deduplicated_index = index_df[index_df.apply(lambda row: utils.keep_file(row['directory'],keep_lookup_table),axis=1)]"
   ]
  },
  {
   "cell_type": "code",
   "execution_count": 19,
   "metadata": {},
   "outputs": [],
   "source": [
    "near_deduplicated_index.to_csv(\"data/search_repo_indices/filtered_near_deduplicated_file_index.csv\")"
   ]
  },
  {
   "cell_type": "code",
   "execution_count": 21,
   "metadata": {},
   "outputs": [],
   "source": [
    "near_deduplicated_index = utils.read_csv(\"data/search_repo_indices/filtered_near_deduplicated_file_index.csv\")\n",
    "code_df = utils.read_csv(\"data/verilog_partitions/filtered_exact_deduplicated_files_code.csv\")"
   ]
  },
  {
   "cell_type": "code",
   "execution_count": 22,
   "metadata": {},
   "outputs": [],
   "source": [
    "near_dedup_code_df = code_df.loc[near_deduplicated_index.index]"
   ]
  },
  {
   "cell_type": "code",
   "execution_count": 24,
   "metadata": {},
   "outputs": [],
   "source": [
    "near_dedup_code_df.to_csv(\"data/verilog_partitions/filtered_near_deduplicated_files_code.csv\")"
   ]
  }
 ],
 "metadata": {
  "kernelspec": {
   "display_name": "Python 3.10.6 ('hdl_dataset_creation')",
   "language": "python",
   "name": "python3"
  },
  "language_info": {
   "codemirror_mode": {
    "name": "ipython",
    "version": 3
   },
   "file_extension": ".py",
   "mimetype": "text/x-python",
   "name": "python",
   "nbconvert_exporter": "python",
   "pygments_lexer": "ipython3",
   "version": "3.10.6"
  },
  "orig_nbformat": 4,
  "vscode": {
   "interpreter": {
    "hash": "d483179aadbe36b266083fb168142eacd02134ef8f8b2756794bec1efb632f92"
   }
  }
 },
 "nbformat": 4,
 "nbformat_minor": 2
}
