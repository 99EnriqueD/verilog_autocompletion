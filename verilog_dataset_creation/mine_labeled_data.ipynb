{
 "cells": [
  {
   "cell_type": "code",
   "execution_count": 2,
   "metadata": {},
   "outputs": [],
   "source": [
    "%load_ext autoreload\n",
    "%autoreload 2\n",
    "\n",
    "import pandas as pd\n",
    "import utils\n",
    "\n",
    "from tqdm import tqdm\n",
    "tqdm.pandas(desc='Applying')\n",
    "import re\n",
    "\n",
    "from pandarallel import pandarallel"
   ]
  },
  {
   "cell_type": "code",
   "execution_count": 3,
   "metadata": {},
   "outputs": [],
   "source": [
    "main_df = utils.read_csv(\"data/full_unlabeled.csv\")"
   ]
  },
  {
   "cell_type": "code",
   "execution_count": 4,
   "metadata": {},
   "outputs": [
    {
     "data": {
      "text/plain": [
       "Index(['directory', 'repo_id', 'file_name', 'extension', 'no_lines',\n",
       "       'max_line_len', 'generation_keywords', 'license_whitelist_keywords',\n",
       "       'license_blacklist_keywords', 'icarus_module_spans', 'icarus_exception',\n",
       "       'verilator_xml_output_path', 'verilator_exception', 'code'],\n",
       "      dtype='object')"
      ]
     },
     "execution_count": 4,
     "metadata": {},
     "output_type": "execute_result"
    }
   ],
   "source": [
    "main_df.columns"
   ]
  },
  {
   "attachments": {},
   "cell_type": "markdown",
   "metadata": {},
   "source": [
    "## Mining snippets"
   ]
  },
  {
   "cell_type": "code",
   "execution_count": 5,
   "metadata": {},
   "outputs": [],
   "source": [
    "module_re = re.compile(r'module (.*?)endmodule',re.DOTALL | re.MULTILINE)\n",
    "function_re = re.compile(r'function (.*?)endfunction',re.DOTALL | re.MULTILINE)"
   ]
  },
  {
   "cell_type": "code",
   "execution_count": 6,
   "metadata": {},
   "outputs": [],
   "source": [
    "def mine_labeled_pairs(row):\n",
    "    abstract_code, replaced = utils.abstract_strings(row['code'])\n",
    "    no_comments_abstract_code = utils.remove_all_comments(abstract_code)\n",
    "    # Find modules\n",
    "    modules = []\n",
    "    for match in re.finditer(module_re,no_comments_abstract_code):\n",
    "        modules.append(match.group(0))\n",
    "    modules = [utils.recreate_string(m,replaced) for m in modules]\n",
    "    # Find functions\n",
    "    functions = []\n",
    "    for match in re.finditer(function_re,no_comments_abstract_code):\n",
    "        functions.append(match.group(0))\n",
    "    functions = [utils.recreate_string(f,replaced) for f in functions]\n",
    "    return modules, functions"
   ]
  },
  {
   "cell_type": "code",
   "execution_count": 7,
   "metadata": {},
   "outputs": [],
   "source": [
    "columns_to_keep = [c for c in main_df.columns if not c in ['code']]\n",
    "snippet_df = pd.DataFrame(columns=columns_to_keep + ['file_index','snippet_type','snippet'])"
   ]
  },
  {
   "cell_type": "code",
   "execution_count": null,
   "metadata": {},
   "outputs": [],
   "source": [
    "for file_index,row in main_df.iterrows():\n",
    "    print(file_index)\n",
    "    modules,functions = mine_labeled_pairs(row)\n",
    "    for module in modules:\n",
    "        snippet_df.loc[len(snippet_df)] = [row[ctk] for ctk in columns_to_keep] + [file_index,'module',module]\n",
    "    for function in functions:\n",
    "        snippet_df.loc[len(snippet_df)] = [row[ctk] for ctk in columns_to_keep] + [file_index,'function',function]"
   ]
  },
  {
   "cell_type": "code",
   "execution_count": 19,
   "metadata": {},
   "outputs": [
    {
     "data": {
      "text/plain": [
       "module      130862\n",
       "function     11752\n",
       "Name: snippet_type, dtype: int64"
      ]
     },
     "execution_count": 19,
     "metadata": {},
     "output_type": "execute_result"
    }
   ],
   "source": [
    "snippet_df['snippet_type'].value_counts()"
   ]
  },
  {
   "cell_type": "code",
   "execution_count": 21,
   "metadata": {},
   "outputs": [
    {
     "name": "stdout",
     "output_type": "stream",
     "text": [
      "142614\n",
      "142297\n"
     ]
    }
   ],
   "source": [
    "print(len(snippet_df))\n",
    "print(len(snippet_df.drop_duplicates()))"
   ]
  },
  {
   "cell_type": "code",
   "execution_count": 22,
   "metadata": {},
   "outputs": [],
   "source": [
    "snippet_df.drop_duplicates().to_csv(\"data/full_snippets.csv\")"
   ]
  },
  {
   "attachments": {},
   "cell_type": "markdown",
   "metadata": {},
   "source": [
    "## Mining pairs\n",
    "Splitting snippets into definition-body pairs"
   ]
  },
  {
   "cell_type": "code",
   "execution_count": 26,
   "metadata": {},
   "outputs": [],
   "source": [
    "snippet_df = utils.read_csv(\"data/full_snippets.csv\")"
   ]
  },
  {
   "cell_type": "code",
   "execution_count": 27,
   "metadata": {},
   "outputs": [],
   "source": [
    "module_def_re = re.compile(r'module (.*?);',re.DOTALL | re.MULTILINE)\n",
    "function_def_re = re.compile(r'function (.*?);',re.DOTALL | re.MULTILINE)"
   ]
  },
  {
   "cell_type": "code",
   "execution_count": null,
   "metadata": {},
   "outputs": [],
   "source": [
    "with open('test.v','r') as f:\n",
    "    s = f.read()\n",
    "\n",
    "m = re.search(module_def_re,s)\n",
    "print(m.group(0))\n",
    "print(\"=\"*10)\n",
    "print(s[m.span()[1]:])"
   ]
  },
  {
   "cell_type": "code",
   "execution_count": 37,
   "metadata": {},
   "outputs": [],
   "source": [
    "def split_snippet(snippet,def_re):\n",
    "    match = re.search(def_re,snippet)\n",
    "    if not match:\n",
    "        return \"ERROR\", \"ERROR\"\n",
    "    s_def = match.group(0)\n",
    "    s_body = snippet[match.span()[1]:]\n",
    "    return s_def, s_body\n",
    "\n",
    "def get_def_body_pairs(row):\n",
    "    abstract_snippet, replaced = utils.abstract_strings(row['snippet'])\n",
    "    def_re = module_def_re if row['snippet_type'] =='module' else function_def_re\n",
    "    s_def, s_body = split_snippet(abstract_snippet,def_re)\n",
    "    return pd.Series([utils.recreate_string(s_def,replaced), utils.recreate_string(s_body,replaced)])\n"
   ]
  },
  {
   "cell_type": "code",
   "execution_count": 38,
   "metadata": {},
   "outputs": [
    {
     "name": "stdout",
     "output_type": "stream",
     "text": [
      "INFO: Pandarallel will run on 4 workers.\n",
      "INFO: Pandarallel will use Memory file system to transfer data between the main process and workers.\n"
     ]
    },
    {
     "name": "stderr",
     "output_type": "stream",
     "text": [
      "Applying: 100%|██████████| 142297/142297 [00:23<00:00, 6015.28it/s]\n"
     ]
    }
   ],
   "source": [
    "snippet_df[['snippet_def','snippet_body']] = snippet_df.progress_apply(get_def_body_pairs,axis=1)"
   ]
  },
  {
   "cell_type": "code",
   "execution_count": null,
   "metadata": {},
   "outputs": [],
   "source": [
    "snippet_df[snippet_df['snippet_def'].isin([\"ERROR\"])]"
   ]
  },
  {
   "cell_type": "code",
   "execution_count": 44,
   "metadata": {},
   "outputs": [
    {
     "name": "stdout",
     "output_type": "stream",
     "text": [
      "142297\n",
      "142283\n"
     ]
    }
   ],
   "source": [
    "print(len(snippet_df))\n",
    "print(len(snippet_df[~snippet_df['snippet_def'].isin([\"ERROR\"])]))"
   ]
  },
  {
   "cell_type": "code",
   "execution_count": 45,
   "metadata": {},
   "outputs": [],
   "source": [
    "snippet_df[~snippet_df['snippet_def'].isin([\"ERROR\"])].to_csv(\"data/full_snippets.csv\")"
   ]
  }
 ],
 "metadata": {
  "kernelspec": {
   "display_name": "Python 3.10.6 ('hdl_dataset_creation')",
   "language": "python",
   "name": "python3"
  },
  "language_info": {
   "codemirror_mode": {
    "name": "ipython",
    "version": 3
   },
   "file_extension": ".py",
   "mimetype": "text/x-python",
   "name": "python",
   "nbconvert_exporter": "python",
   "pygments_lexer": "ipython3",
   "version": "3.10.6"
  },
  "orig_nbformat": 4,
  "vscode": {
   "interpreter": {
    "hash": "d483179aadbe36b266083fb168142eacd02134ef8f8b2756794bec1efb632f92"
   }
  }
 },
 "nbformat": 4,
 "nbformat_minor": 2
}
