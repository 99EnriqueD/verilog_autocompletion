{
 "cells": [
  {
   "cell_type": "code",
   "execution_count": 2,
   "metadata": {},
   "outputs": [],
   "source": [
    "%load_ext autoreload\n",
    "%autoreload 2\n",
    "\n",
    "import pandas as pd\n",
    "import utils\n",
    "import random\n",
    "\n",
    "from tqdm import tqdm\n",
    "tqdm.pandas(desc='Applying')\n",
    "import re\n",
    "\n",
    "from pandarallel import pandarallel"
   ]
  },
  {
   "cell_type": "code",
   "execution_count": 3,
   "metadata": {},
   "outputs": [],
   "source": [
    "unlabeled_df = utils.read_csv(\"data/full_unlabeled.csv\")\n",
    "snippets_df = utils.read_csv(\"data/full_snippets.csv\")\n",
    "repo_df = utils.read_csv(\"data/search_repo_indices/permissive_all_deduplicated_repos.csv\")"
   ]
  },
  {
   "attachments": {},
   "cell_type": "markdown",
   "metadata": {},
   "source": [
    "Evaluation code:\n",
    "- parsable by icarus or verilator\n",
    "- at least one github star\n",
    "- at least one snippet"
   ]
  },
  {
   "cell_type": "code",
   "execution_count": 4,
   "metadata": {},
   "outputs": [],
   "source": [
    "def get_stars(row,repo_df):\n",
    "    star_count = list(repo_df[repo_df['id'].isin([int(row['repo_id'])])]['stargazers_count'])[0]\n",
    "    return star_count"
   ]
  },
  {
   "cell_type": "code",
   "execution_count": 5,
   "metadata": {},
   "outputs": [
    {
     "name": "stderr",
     "output_type": "stream",
     "text": [
      "Applying: 100%|██████████| 100524/100524 [00:30<00:00, 3255.54it/s]\n"
     ]
    }
   ],
   "source": [
    "unlabeled_df['gh_stars'] = unlabeled_df.progress_apply(lambda row: get_stars(row,repo_df),axis=1)"
   ]
  },
  {
   "cell_type": "code",
   "execution_count": 6,
   "metadata": {},
   "outputs": [
    {
     "name": "stderr",
     "output_type": "stream",
     "text": [
      "Applying: 100%|██████████| 142283/142283 [00:36<00:00, 3872.69it/s]\n"
     ]
    }
   ],
   "source": [
    "snippets_df['gh_stars'] = snippets_df.progress_apply(lambda row: get_stars(row,repo_df),axis=1)"
   ]
  },
  {
   "cell_type": "code",
   "execution_count": 7,
   "metadata": {},
   "outputs": [
    {
     "data": {
      "image/png": "[encoded data removed]",
      "text/plain": [
       "<Figure size 640x480 with 1 Axes>"
      ]
     },
     "metadata": {},
     "output_type": "display_data"
    }
   ],
   "source": [
    "import matplotlib.pyplot as plt\n",
    "\n",
    "fig,ax = plt.subplots()\n",
    "bins=list(range(0,50,1))\n",
    "ax.hist(unlabeled_df['gh_stars'],bins=bins,density=False, histtype='bar',label='histogram bins')\n",
    "# ax.axvline(x=unlabeled_df['no_lines'].mean(),ymin=0,ymax=0.2,color='red',linewidth=3.0,label='mean')\n",
    "# ax.axvline(x=unlabeled_df['no_lines'].median(),ymin=0,ymax=0.2,color='orange',linewidth=3.0,label='median')\n",
    "# ax.set_xticks(list(range(0,2501,500)))\n",
    "# ax.set_xlabel('lines')\n",
    "# ax.set_ylabel('files')\n",
    "# ax.text(combined_df['no_lines'].median(),4500,str(int(combined_df['no_lines'].median())),color='orange',ha='center',weight='heavy')\n",
    "# ax.text(combined_df['no_lines'].mean(),4500,str(int(combined_df['no_lines'].mean())),color='red',ha='center',weight='heavy')\n",
    "# ax.legend()\n",
    "# fig.savefig(\"number_of_lines.png\",dpi=1200)\n",
    "fig.show()"
   ]
  },
  {
   "cell_type": "code",
   "execution_count": 8,
   "metadata": {},
   "outputs": [],
   "source": [
    "unlabeled_df['has_snippet'] = unlabeled_df.index.isin(snippets_df['file_index'].astype(str))"
   ]
  },
  {
   "cell_type": "code",
   "execution_count": null,
   "metadata": {},
   "outputs": [],
   "source": [
    "best_unlabeled_df = unlabeled_df[unlabeled_df['has_snippet']]\n",
    "print(len(best_unlabeled_df))\n",
    "best_unlabeled_df = best_unlabeled_df[best_unlabeled_df['gh_stars'] > 0]\n",
    "print(len(best_unlabeled_df))"
   ]
  },
  {
   "cell_type": "code",
   "execution_count": 15,
   "metadata": {},
   "outputs": [
    {
     "name": "stdout",
     "output_type": "stream",
     "text": [
      "57511\n",
      "28755.5\n",
      "8626.65\n"
     ]
    }
   ],
   "source": [
    "print(len(best_unlabeled_df))\n",
    "print(len(best_unlabeled_df)*0.5)\n",
    "print(len(best_unlabeled_df)*0.15)"
   ]
  },
  {
   "cell_type": "code",
   "execution_count": 19,
   "metadata": {},
   "outputs": [],
   "source": [
    "best_unlabeled_df = best_unlabeled_df.sample(frac=1)\n",
    "eval_unlabeled_df = best_unlabeled_df.iloc[:28756]"
   ]
  },
  {
   "cell_type": "code",
   "execution_count": 21,
   "metadata": {},
   "outputs": [],
   "source": [
    "val_unlabeled_df = eval_unlabeled_df.iloc[:8627]\n",
    "test_unlabeled_df = eval_unlabeled_df.iloc[8627:]\n",
    "train_unlabeled_df = unlabeled_df[~unlabeled_df.index.isin(eval_unlabeled_df.index)]"
   ]
  },
  {
   "cell_type": "code",
   "execution_count": 22,
   "metadata": {},
   "outputs": [
    {
     "name": "stdout",
     "output_type": "stream",
     "text": [
      "71768 8627 20129\n",
      "100524\n"
     ]
    }
   ],
   "source": [
    "print(len(train_unlabeled_df),len(val_unlabeled_df),len(test_unlabeled_df))\n",
    "print(sum([len(train_unlabeled_df),len(val_unlabeled_df),len(test_unlabeled_df)]))"
   ]
  },
  {
   "cell_type": "code",
   "execution_count": 23,
   "metadata": {},
   "outputs": [],
   "source": [
    "train_unlabeled_df.to_csv(\"data/train_unlabeled.csv\")\n",
    "val_unlabeled_df.to_csv(\"data/val_unlabeled.csv\")\n",
    "test_unlabeled_df.to_csv(\"data/test_unlabeled.csv\")"
   ]
  },
  {
   "cell_type": "code",
   "execution_count": 24,
   "metadata": {},
   "outputs": [],
   "source": [
    "train_labeled_df = snippets_df[snippets_df['file_index'].astype(str).isin(train_unlabeled_df.index)]\n",
    "val_labeled_df = snippets_df[snippets_df['file_index'].astype(str).isin(val_unlabeled_df.index)]\n",
    "test_labeled_df = snippets_df[snippets_df['file_index'].astype(str).isin(test_unlabeled_df.index)]"
   ]
  },
  {
   "cell_type": "code",
   "execution_count": 25,
   "metadata": {},
   "outputs": [
    {
     "name": "stdout",
     "output_type": "stream",
     "text": [
      "142283\n",
      "102265 11811 28207\n",
      "142283\n"
     ]
    }
   ],
   "source": [
    "print(len(snippets_df))\n",
    "print(len(train_labeled_df),len(val_labeled_df),len(test_labeled_df))\n",
    "print(sum([len(train_labeled_df),len(val_labeled_df),len(test_labeled_df)]))"
   ]
  },
  {
   "cell_type": "code",
   "execution_count": 26,
   "metadata": {},
   "outputs": [],
   "source": [
    "train_labeled_df.to_csv(\"data/train_labeled.csv\")\n",
    "val_labeled_df.to_csv(\"data/val_labeled.csv\")\n",
    "test_labeled_df.to_csv(\"data/test_labeled.csv\")"
   ]
  },
  {
   "cell_type": "code",
   "execution_count": 27,
   "metadata": {},
   "outputs": [],
   "source": [
    "fraction = 0.1\n",
    "df_names = ['full_snippets','full_unlabeled','test_labeled','test_unlabeled','train_labeled','train_unlabeled','val_labeled','val_unlabeled']\n",
    "for df_name in df_names:\n",
    "    df_path = \"data/\" + df_name + \".csv\"\n",
    "    df = utils.read_csv(df_path)\n",
    "    df.sample(frac=fraction).to_csv(\"data/\" + \"subset_\" + df_name + \".csv\")"
   ]
  },
  {
   "cell_type": "code",
   "execution_count": 28,
   "metadata": {},
   "outputs": [],
   "source": [
    "def process_unlabeled_data(row):\n",
    "    abstract_code, replaced = utils.abstract_strings(row['code'])\n",
    "    no_comments_abstract_code = utils.remove_all_comments(abstract_code)\n",
    "    return utils.recreate_string(no_comments_abstract_code,replaced)"
   ]
  },
  {
   "cell_type": "code",
   "execution_count": 29,
   "metadata": {},
   "outputs": [
    {
     "name": "stdout",
     "output_type": "stream",
     "text": [
      "Processing full_unlabeled\n"
     ]
    },
    {
     "name": "stderr",
     "output_type": "stream",
     "text": [
      "Applying: 100%|██████████| 100524/100524 [01:27<00:00, 1146.38it/s]\n"
     ]
    },
    {
     "name": "stdout",
     "output_type": "stream",
     "text": [
      "Processing test_unlabeled\n"
     ]
    },
    {
     "name": "stderr",
     "output_type": "stream",
     "text": [
      "Applying: 100%|██████████| 20129/20129 [00:12<00:00, 1573.40it/s]\n"
     ]
    },
    {
     "name": "stdout",
     "output_type": "stream",
     "text": [
      "Processing train_unlabeled\n"
     ]
    },
    {
     "name": "stderr",
     "output_type": "stream",
     "text": [
      "Applying: 100%|██████████| 71768/71768 [00:57<00:00, 1255.21it/s]\n"
     ]
    },
    {
     "name": "stdout",
     "output_type": "stream",
     "text": [
      "Processing val_unlabeled\n"
     ]
    },
    {
     "name": "stderr",
     "output_type": "stream",
     "text": [
      "Applying: 100%|██████████| 8627/8627 [00:06<00:00, 1266.01it/s]\n"
     ]
    },
    {
     "name": "stdout",
     "output_type": "stream",
     "text": [
      "Processing subset_full_unlabeled\n"
     ]
    },
    {
     "name": "stderr",
     "output_type": "stream",
     "text": [
      "Applying: 100%|██████████| 10052/10052 [00:06<00:00, 1470.92it/s]\n"
     ]
    },
    {
     "name": "stdout",
     "output_type": "stream",
     "text": [
      "Processing subset_test_unlabeled\n"
     ]
    },
    {
     "name": "stderr",
     "output_type": "stream",
     "text": [
      "Applying: 100%|██████████| 2013/2013 [00:02<00:00, 992.33it/s] \n"
     ]
    },
    {
     "name": "stdout",
     "output_type": "stream",
     "text": [
      "Processing subset_train_unlabeled\n"
     ]
    },
    {
     "name": "stderr",
     "output_type": "stream",
     "text": [
      "Applying: 100%|██████████| 7177/7177 [00:05<00:00, 1354.61it/s]\n"
     ]
    },
    {
     "name": "stdout",
     "output_type": "stream",
     "text": [
      "Processing subset_val_unlabeled\n"
     ]
    },
    {
     "name": "stderr",
     "output_type": "stream",
     "text": [
      "Applying: 100%|██████████| 863/863 [00:00<00:00, 1395.45it/s]\n"
     ]
    }
   ],
   "source": [
    "unlabeled_df_names = ['full_unlabeled','test_unlabeled','train_unlabeled','val_unlabeled']\n",
    "unlabeled_subset_names = ['subset_' + df_name for df_name in unlabeled_df_names]\n",
    "for df_name in unlabeled_df_names + unlabeled_subset_names:\n",
    "    print(\"Processing\", df_name)\n",
    "    df_path = \"data/\" + df_name + \".csv\"\n",
    "    df = utils.read_csv(df_path)\n",
    "    df['code'] = df.progress_apply(process_unlabeled_data,axis=1)\n",
    "    df.to_csv(\"data/\" + 'processed_' + df_name + \".csv\")"
   ]
  },
  {
   "attachments": {},
   "cell_type": "markdown",
   "metadata": {},
   "source": [
    "## Parsable train"
   ]
  },
  {
   "cell_type": "code",
   "execution_count": null,
   "metadata": {},
   "outputs": [],
   "source": [
    "unlabeled_df = utils.read_csv(\"data/processed_train_unlabeled.csv\")"
   ]
  },
  {
   "cell_type": "code",
   "execution_count": null,
   "metadata": {},
   "outputs": [
    {
     "name": "stdout",
     "output_type": "stream",
     "text": [
      "71768\n"
     ]
    }
   ],
   "source": [
    "best_unlabeled_df = unlabeled_df\n",
    "print(len(best_unlabeled_df))"
   ]
  },
  {
   "cell_type": "code",
   "execution_count": null,
   "metadata": {},
   "outputs": [],
   "source": [
    "best_unlabeled_df = best_unlabeled_df[(best_unlabeled_df['icarus_exception'].str.len() < 1) | (best_unlabeled_df['verilator_exception'].str.len() < 1)]"
   ]
  },
  {
   "cell_type": "code",
   "execution_count": null,
   "metadata": {},
   "outputs": [
    {
     "name": "stdout",
     "output_type": "stream",
     "text": [
      "43236\n"
     ]
    }
   ],
   "source": [
    "print(len(best_unlabeled_df))"
   ]
  },
  {
   "cell_type": "code",
   "execution_count": null,
   "metadata": {},
   "outputs": [],
   "source": [
    "best_unlabeled_df.to_csv(\"data/processed_train_unlabeled_parsable.csv\")"
   ]
  },
  {
   "cell_type": "code",
   "execution_count": null,
   "metadata": {},
   "outputs": [
    {
     "name": "stdout",
     "output_type": "stream",
     "text": [
      "65424\n",
      "42477\n"
     ]
    }
   ],
   "source": [
    "print(len(unlabeled_df[unlabeled_df['has_snippet']]))\n",
    "print(len(best_unlabeled_df[best_unlabeled_df['has_snippet']]))"
   ]
  },
  {
   "attachments": {},
   "cell_type": "markdown",
   "metadata": {},
   "source": [
    "## Add part of body to def randomly for test"
   ]
  },
  {
   "cell_type": "code",
   "execution_count": null,
   "metadata": {},
   "outputs": [],
   "source": [
    "test_df = utils.read_csv('data/test_labeled.csv')"
   ]
  },
  {
   "cell_type": "code",
   "execution_count": null,
   "metadata": {},
   "outputs": [],
   "source": [
    "def add_parts_of_body_to_def(row):\n",
    "    sdef = row['snippet_def']\n",
    "    sbody = row['snippet_body']\n",
    "    sdef_lines = sdef.split(\"\\n\")\n",
    "    sbody_lines = sbody.split(\"\\n\")\n",
    "    real_def_len = len([s for s in sdef_lines if len(s) > 5])\n",
    "    real_body_len = len([s for s in sbody_lines if len(s) > 5])\n",
    "    real_def_lines = [s for s in sdef_lines if len(re.sub(r\"\\s\",\"\",s)) > 0]\n",
    "    real_body_lines = [s for s in sbody_lines if len(re.sub(r\"\\s\",\"\",s)) > 0]\n",
    "\n",
    "    def func(x):\n",
    "        return max(0,min(5,((x+0.7) // 3) ))\n",
    "    \n",
    "    if real_def_len < 10:\n",
    "        func_val = func(real_body_len)\n",
    "        ri = random.randint(max(0,func_val-1),func_val)\n",
    "        return pd.Series([\"\\n\".join(real_def_lines+real_body_lines[:ri]), \"\\n\".join(real_body_lines[ri:])])\n",
    "    else:\n",
    "        return pd.Series([\"\\n\".join(real_def_lines), \"\\n\".join(real_body_lines)])"
   ]
  },
  {
   "cell_type": "code",
   "execution_count": null,
   "metadata": {},
   "outputs": [],
   "source": [
    "test_df[['random_snippet_def','random_snippet_body']] = test_df.apply(add_parts_of_body_to_def,axis=1)"
   ]
  },
  {
   "cell_type": "code",
   "execution_count": null,
   "metadata": {},
   "outputs": [
    {
     "name": "stdout",
     "output_type": "stream",
     "text": [
      "28206\n",
      "28207\n",
      "28207\n"
     ]
    }
   ],
   "source": [
    "print(len(test_df[(test_df['snippet'].str.len() > 1) & (test_df['random_snippet_def'].str.len() > 1) & (test_df['random_snippet_body'].str.len() > 1)]))\n",
    "print(len(test_df[(test_df['snippet'].str.len() > 1) & (test_df['snippet_def'].str.len() > 1) & (test_df['snippet_body'].str.len() > 1)]))\n",
    "print(len(test_df))"
   ]
  },
  {
   "cell_type": "code",
   "execution_count": null,
   "metadata": {},
   "outputs": [],
   "source": [
    "test_df[(test_df['snippet'].str.len() > 1) & (test_df['random_snippet_def'].str.len() > 1) & (test_df['random_snippet_body'].str.len() > 1)].to_csv(\"data/test_labeled_randomized_pairs.csv\")"
   ]
  }
 ],
 "metadata": {
  "kernelspec": {
   "display_name": "Python 3.10.6 ('hdl_dataset_creation')",
   "language": "python",
   "name": "python3"
  },
  "language_info": {
   "codemirror_mode": {
    "name": "ipython",
    "version": 3
   },
   "file_extension": ".py",
   "mimetype": "text/x-python",
   "name": "python",
   "nbconvert_exporter": "python",
   "pygments_lexer": "ipython3",
   "version": "3.10.6"
  },
  "orig_nbformat": 4,
  "vscode": {
   "interpreter": {
    "hash": "d483179aadbe36b266083fb168142eacd02134ef8f8b2756794bec1efb632f92"
   }
  }
 },
 "nbformat": 4,
 "nbformat_minor": 2
}
